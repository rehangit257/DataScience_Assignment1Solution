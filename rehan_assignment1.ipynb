{
 "cells": [
  {
   "cell_type": "code",
   "execution_count": null,
   "id": "74aaf9bc",
   "metadata": {},
   "outputs": [],
   "source": [
    "#Question_NO.1 Program to print the string in a specified format\n",
    "print(\"Twinkle, twinkle, little star,\")\n",
    "print(\"\\tHow I wonder what you are!\")\n",
    "print(\"\\t\\tUp above the world so high,\")\n",
    "print(\"\\t\\tLike a diamond in the sky.\")\n",
    "print(\"Twinkle, twinkle, little star,\")\n",
    "print(\"\\tHow I wonder what you are\")\n",
    "\n",
    "\n",
    "\n",
    "#Question_NO.2 Program to get python version\n",
    "import sys\n",
    "print(\"Python version you are using\")\n",
    "print (sys.version)\n",
    "print(\"Version information\")\n",
    "print (sys.version_info)\n",
    "\n",
    "\n",
    "#Question_NO.3 Program to display current time\n",
    "import datetime\n",
    "date_time = datetime.datetime.now()\n",
    "print (\"Current Date & Time\")\n",
    "print (date_time.strftime(\"%Y-%m-%d %H:%M:%S\"))\n",
    "\n",
    "\n",
    "#Question_NO.4 Program to compute the area of circle\n",
    "print(\"Enter radius of circle:\")\n",
    "r=int(input())\n",
    "area=3.14*r*r\n",
    "print(\"Area of Circle:\",area)\n",
    "\n",
    "\n",
    "#Question_NO.5 Program which take name as input and display in reverse order with space between\n",
    "print(\"Enter first name:\")\n",
    "fname=input()\n",
    "print(\"Enter last name:\")\n",
    "lname=input()\n",
    "print(\"Reversed Name:\",lname,\" \",fname)\n",
    "\n",
    "\n",
    "#Question_NO.6 Program which print the addition of numbers\n",
    "x=int(input(\"Enter first value:\"))\n",
    "y=int(input(\"Enter second value:\"))\n",
    "print(x,\"+\",y,\"=\",x+y)\n",
    "\n"
   ]
  }
 ],
 "metadata": {
  "kernelspec": {
   "display_name": "Python 3",
   "language": "python",
   "name": "python3"
  },
  "language_info": {
   "codemirror_mode": {
    "name": "ipython",
    "version": 3
   },
   "file_extension": ".py",
   "mimetype": "text/x-python",
   "name": "python",
   "nbconvert_exporter": "python",
   "pygments_lexer": "ipython3",
   "version": "3.8.8"
  }
 },
 "nbformat": 4,
 "nbformat_minor": 5
}
